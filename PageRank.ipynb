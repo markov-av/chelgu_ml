{
 "cells": [
  {
   "cell_type": "code",
   "execution_count": 1,
   "metadata": {
    "collapsed": true,
    "pycharm": {
     "is_executing": false
    }
   },
   "outputs": [],
   "source": [
    "import os\n",
    "import re\n",
    "import urllib\n",
    "from pprint import pprint\n",
    "import numpy as np\n",
    "from tqdm import tqdm, tqdm_notebook"
   ]
  },
  {
   "cell_type": "code",
   "execution_count": 2,
   "outputs": [],
   "source": [
    "def decode(decode_string):\n",
    "    return urllib.parse.unquote(decode_string)\n",
    "\n",
    "\n",
    "def find_matches(data):\n",
    "    matchs = re.findall('/wiki/[\\d\\w%_:]*', data)\n",
    "    matchs = [m.split('/wiki/')[1] for m in matchs]\n",
    "    return matchs\n",
    "\n",
    "\n",
    "htmls = os.listdir('data/raw')\n",
    "htmls = [html.lower() for html in htmls]\n",
    "indexs = dict()\n",
    "names = dict()\n",
    "for num, html in enumerate(htmls):\n",
    "    indexs[html] = num\n",
    "    names[num] = html"
   ],
   "metadata": {
    "collapsed": false,
    "pycharm": {
     "name": "#%%\n",
     "is_executing": false
    }
   }
  },
  {
   "cell_type": "code",
   "execution_count": 3,
   "outputs": [],
   "source": [
    "htmls = os.listdir('data/raw')\n",
    "htmls_low = [html.lower() for html in htmls]\n",
    "def page_rank_matrix(htmls: list):\n",
    "    matrix = np.zeros((len(indexs), len(indexs)))\n",
    "    for html in tqdm_notebook(htmls):\n",
    "        with open(f\"data/raw/{html}\") as f:\n",
    "            data = f.read()\n",
    "        links = find_matches(data)\n",
    "        html = html.lower()\n",
    "        for link in links:\n",
    "            decode_link = decode(link).lower()\n",
    "            decode_link = decode_link + '.html'\n",
    "            if decode_link in htmls_low and decode_link != html:\n",
    "                current_page_index = indexs[html]\n",
    "                index = indexs[decode_link]\n",
    "                matrix[current_page_index][index] += 1\n",
    "    page_rank_matrix = (matrix.transpose() / matrix.sum(axis=1)).transpose()\n",
    "    return page_rank_matrix"
   ],
   "metadata": {
    "collapsed": false,
    "pycharm": {
     "name": "#%%\n",
     "is_executing": false
    }
   }
  },
  {
   "cell_type": "code",
   "execution_count": 4,
   "outputs": [
    {
     "name": "stderr",
     "text": [
      "/home/boozzee/.local/share/virtualenvs/chelgu_ml-RHtMNTam/lib/python3.7/site-packages/ipykernel_launcher.py:5: TqdmDeprecationWarning: This function will be removed in tqdm==5.0.0\n",
      "Please use `tqdm.notebook.tqdm` instead of `tqdm.tqdm_notebook`\n",
      "  \"\"\"\n"
     ],
     "output_type": "stream"
    },
    {
     "data": {
      "text/plain": "HBox(children=(FloatProgress(value=0.0, max=2379.0), HTML(value='')))",
      "application/vnd.jupyter.widget-view+json": {
       "version_major": 2,
       "version_minor": 0,
       "model_id": "fc5b9a5fe1c34faa8fcc42d34ab4c46f"
      }
     },
     "metadata": {},
     "output_type": "display_data"
    },
    {
     "name": "stdout",
     "text": [
      "\n"
     ],
     "output_type": "stream"
    }
   ],
   "source": [
    "page_rank_matrix = page_rank_matrix(htmls)\n",
    "random_vector = np.ones(len(indexs)) / len(indexs)\n",
    "for i in range(len(random_vector) - 1):\n",
    "    random_vector = page_rank_matrix.transpose().dot(random_vector)\n",
    "top_pages = random_vector.argsort()[::-1]"
   ],
   "metadata": {
    "collapsed": false,
    "pycharm": {
     "name": "#%%\n",
     "is_executing": false
    }
   }
  },
  {
   "cell_type": "code",
   "execution_count": 6,
   "outputs": [
    {
     "name": "stdout",
     "text": [
      "заглавная_страница.html\n",
      "английский_язык.html\n",
      "сша.html\n",
      "великобритания.html\n",
      "франция.html\n",
      "соединённые_штаты_америки.html\n",
      "большая_советская_энциклопедия.html\n",
      "ссср.html\n",
      "латинский_язык.html\n",
      "канада.html\n",
      "германия.html\n",
      "французский_язык.html\n",
      "москва.html\n",
      "италия.html\n",
      "европа.html\n"
     ],
     "output_type": "stream"
    }
   ],
   "source": [
    "for page in top_pages[:15]:\n",
    "    print(names[page])"
   ],
   "metadata": {
    "collapsed": false,
    "pycharm": {
     "name": "#%%\n",
     "is_executing": false
    }
   }
  },
  {
   "cell_type": "code",
   "execution_count": 7,
   "outputs": [],
   "source": [
    "arm_top_pages = [names[page] for page in top_pages if 'армстронг' in names[page].lower()]"
   ],
   "metadata": {
    "collapsed": false,
    "pycharm": {
     "name": "#%%\n",
     "is_executing": false
    }
   }
  },
  {
   "cell_type": "code",
   "execution_count": 8,
   "outputs": [
    {
     "name": "stdout",
     "text": [
      "армстронг.html\n",
      "клан_армстронг.html\n",
      "билли_джо_армстронг.html\n",
      "пушка_армстронга.html\n",
      "армстронг,_самира.html\n",
      "армстронг,_тим.html\n",
      "армстронг,_кёрли.html\n",
      "армстронг,_дебби.html\n",
      "армстронг,_би_джей.html\n",
      "армстронг,_эдвин.html\n",
      "армстронг_(округ,_техас).html\n",
      "армстронг,_джиллиан.html\n",
      "армстронг,_артур_хилари.html\n",
      "армстронг,_нил_олден.html\n",
      "армстронг,_луи.html\n",
      "армстронг_(округ).html\n",
      "армстронг,_джон_(поэт).html\n",
      "армстронг,_дженни.html\n",
      "армстронг,_роберт_голден.html\n",
      "армстронг,_крэйг.html\n",
      "армстронг,_рой_фрейзер.html\n",
      "армстронг,_дилан.html\n",
      "армстронг-уитворт.html\n",
      "армстронг,_вик.html\n",
      "армстронг,_бесс.html\n",
      "армстронг,_джеймс_(борец).html\n",
      "армстронг,_стюарт.html\n",
      "армстронг,_скотт_(баскетболист).html\n",
      "армстронг,_роман_адамович.html\n",
      "армстронг,_карен.html\n",
      "армстронг,_адам_(футболист).html\n",
      "армстронг,_кристин.html\n",
      "армстронг,_колби.html\n",
      "армстронг,_лэнс.html\n",
      "армстронг,_джерри.html\n",
      "армстронг,_билли_джо.html\n",
      "армстронг,_уильям_джордж.html\n",
      "армстронг,_чарльз.html\n",
      "армстронг,_десмонд.html\n",
      "армстронг,_генри_(боксёр).html\n",
      "армстронг,_джеймс.html\n",
      "армстронг,_адам_васильевич.html\n",
      "армстронг,_скотт.html\n",
      "армстронг_(лунный_кратер).html\n",
      "армстронг,_нил.html\n",
      "армстронг,_арчибальд.html\n",
      "армстронг_(округ,_пенсильвания).html\n",
      "армстронг,_томас.html\n",
      "армстронг,_джонас.html\n",
      "армстронг,_даррелл.html\n",
      "армстронг,_дэвид.html\n",
      "армстронг,_джо.html\n",
      "армстронг,_джон.html\n",
      "армстронг,_уильям_лестер.html\n",
      "армстронг,_роберт.html\n",
      "армстронг,_джон_александр.html\n",
      "армстронг,_алан.html\n",
      "армстронг,_генри_эдвард.html\n",
      "армстронг_(фамилия).html\n"
     ],
     "output_type": "stream"
    }
   ],
   "source": [
    "for i in arm_top_pages:\n",
    "    print(i)"
   ],
   "metadata": {
    "collapsed": false,
    "pycharm": {
     "name": "#%%\n",
     "is_executing": false
    }
   }
  },
  {
   "cell_type": "code",
   "execution_count": null,
   "outputs": [],
   "source": [],
   "metadata": {
    "collapsed": false,
    "pycharm": {
     "name": "#%%\n"
    }
   }
  }
 ],
 "metadata": {
  "kernelspec": {
   "display_name": "Python 3",
   "language": "python",
   "name": "python3"
  },
  "language_info": {
   "codemirror_mode": {
    "name": "ipython",
    "version": 2
   },
   "file_extension": ".py",
   "mimetype": "text/x-python",
   "name": "python",
   "nbconvert_exporter": "python",
   "pygments_lexer": "ipython2",
   "version": "2.7.6"
  },
  "pycharm": {
   "stem_cell": {
    "cell_type": "raw",
    "source": [],
    "metadata": {
     "collapsed": false
    }
   }
  }
 },
 "nbformat": 4,
 "nbformat_minor": 0
}